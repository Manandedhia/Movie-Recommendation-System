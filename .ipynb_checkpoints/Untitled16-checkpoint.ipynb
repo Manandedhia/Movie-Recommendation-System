{
 "cells": [
  {
   "cell_type": "code",
   "execution_count": 1,
   "metadata": {},
   "outputs": [
    {
     "data": {
      "text/plain": [
       "'C:\\\\Users\\\\manan\\\\Desktop\\\\mr\\\\mrproject\\\\ml-latest-small'"
      ]
     },
     "execution_count": 1,
     "metadata": {},
     "output_type": "execute_result"
    }
   ],
   "source": [
    "pwd"
   ]
  },
  {
   "cell_type": "code",
   "execution_count": null,
   "metadata": {},
   "outputs": [],
   "source": [
    "if __name__ == '__main__':\n",
    "    moviesrecommend.run()\n",
    "    \n",
    "    \n",
    "    def mapper_combinations(self,userid,ratings):\n",
    "        for movierating1,movierating2 in combinations(ratings,2):\n",
    "            \n",
    "            movieid1 = movierating1[0]\n",
    "            rating1 = movierating1[1]\n",
    "            movieid2 = movierating2[0]\n",
    "            rating2 = movierating2[1]\n",
    "            yield (movieid1,movieid2), (rating1,rating2)\n",
    "            yield (movieid2,movieid1), (rating2,rating1)\n",
    "    \n",
    "    \n",
    "    \n",
    "    "
   ]
  },
  {
   "cell_type": "code",
   "execution_count": 5,
   "metadata": {},
   "outputs": [
    {
     "name": "stderr",
     "output_type": "stream",
     "text": [
      "No configs found; falling back on auto-configuration\n",
      "No configs specified for inline runner\n",
      "Creating temp directory C:\\Users\\manan\\AppData\\Local\\Temp\\Moviesimilarities.manan.20200412.072713.017133\n",
      "Running step 1 of 3...\n",
      "\n",
      "Error while reading from C:\\Users\\manan\\AppData\\Local\\Temp\\Moviesimilarities.manan.20200412.072713.017133\\step\\000\\mapper\\00000\\input:\n",
      "\n",
      "Traceback (most recent call last):\n",
      "  File \"Moviesimilarities.py\", line 127, in <module>\n",
      "    MovieSimilarities.run()\n",
      "  File \"C:\\Users\\manan\\Anaconda3\\lib\\site-packages\\mrjob\\job.py\", line 616, in run\n",
      "    cls().execute()\n",
      "  File \"C:\\Users\\manan\\Anaconda3\\lib\\site-packages\\mrjob\\job.py\", line 687, in execute\n",
      "    self.run_job()\n",
      "  File \"C:\\Users\\manan\\Anaconda3\\lib\\site-packages\\mrjob\\job.py\", line 636, in run_job\n",
      "    runner.run()\n",
      "  File \"C:\\Users\\manan\\Anaconda3\\lib\\site-packages\\mrjob\\runner.py\", line 497, in run\n",
      "    self._run()\n",
      "  File \"C:\\Users\\manan\\Anaconda3\\lib\\site-packages\\mrjob\\sim.py\", line 160, in _run\n",
      "    self._run_step(step, step_num)\n",
      "  File \"C:\\Users\\manan\\Anaconda3\\lib\\site-packages\\mrjob\\sim.py\", line 169, in _run_step\n",
      "    self._run_streaming_step(step, step_num)\n",
      "  File \"C:\\Users\\manan\\Anaconda3\\lib\\site-packages\\mrjob\\sim.py\", line 180, in _run_streaming_step\n",
      "    self._run_mappers_and_combiners(step_num, map_splits)\n",
      "  File \"C:\\Users\\manan\\Anaconda3\\lib\\site-packages\\mrjob\\sim.py\", line 221, in _run_mappers_and_combiners\n",
      "    for task_num, map_split in enumerate(map_splits)\n",
      "  File \"C:\\Users\\manan\\Anaconda3\\lib\\site-packages\\mrjob\\sim.py\", line 129, in _run_multiple\n",
      "    func()\n",
      "  File \"C:\\Users\\manan\\Anaconda3\\lib\\site-packages\\mrjob\\sim.py\", line 723, in _run_mapper_and_combiner\n",
      "    run_mapper()\n",
      "  File \"C:\\Users\\manan\\Anaconda3\\lib\\site-packages\\mrjob\\sim.py\", line 746, in _run_task\n",
      "    stdin, stdout, stderr, wd, env)\n",
      "  File \"C:\\Users\\manan\\Anaconda3\\lib\\site-packages\\mrjob\\inline.py\", line 132, in invoke_task\n",
      "    task.execute()\n",
      "  File \"C:\\Users\\manan\\Anaconda3\\lib\\site-packages\\mrjob\\job.py\", line 675, in execute\n",
      "    self.run_mapper(self.options.step_num)\n",
      "  File \"C:\\Users\\manan\\Anaconda3\\lib\\site-packages\\mrjob\\job.py\", line 760, in run_mapper\n",
      "    for k, v in self.map_pairs(read_lines(), step_num=step_num):\n",
      "  File \"C:\\Users\\manan\\Anaconda3\\lib\\site-packages\\mrjob\\job.py\", line 830, in map_pairs\n",
      "    for k, v in mapper(key, value) or ():\n",
      "  File \"Moviesimilarities.py\", line 48, in mapper_parse_input\n",
      "    yield  userID, (movieID, float(rating))\n",
      "ValueError: could not convert string to float: 'rating'\n"
     ]
    }
   ],
   "source": [
    "!python Moviesimilarities.py --name=movies.csv ratings.csv > movie_output.txt\n"
   ]
  },
  {
   "cell_type": "code",
   "execution_count": null,
   "metadata": {},
   "outputs": [],
   "source": [
    "for in in j:\n",
    "    def load_movie_names(self):\n",
    "        # Load database of movie names.\n",
    "        self.movieNames = {}\n",
    "        with open('movies.csv', newline='') as f:\n",
    "            reader = csv.reader(f)\n",
    "            for line in reader:\n",
    "                fields = line.split(',')\n",
    "                self.movieNames[int(fields[0])] = fields[1]\n",
    "                print(movieNames)\n",
    "for i in j:\n",
    "    r_cols = ['user_id', 'movie_id', 'rating','timestamp']\n",
    "    ratings = pd.read_csv('movies.csv', sep='\\t', names=r_cols, usecols=range(4))\n",
    "    ratings.head()\n"
   ]
  }
 ],
 "metadata": {
  "kernelspec": {
   "display_name": "Python 3",
   "language": "python",
   "name": "python3"
  },
  "language_info": {
   "codemirror_mode": {
    "name": "ipython",
    "version": 3
   },
   "file_extension": ".py",
   "mimetype": "text/x-python",
   "name": "python",
   "nbconvert_exporter": "python",
   "pygments_lexer": "ipython3",
   "version": "3.7.0"
  }
 },
 "nbformat": 4,
 "nbformat_minor": 2
}
