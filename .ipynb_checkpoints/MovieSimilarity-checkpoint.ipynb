{
 "cells": [
  {
   "cell_type": "code",
   "execution_count": 1,
   "metadata": {},
   "outputs": [
    {
     "name": "stderr",
     "output_type": "stream",
     "text": [
      "No configs found; falling back on auto-configuration\n",
      "No configs specified for inline runner\n",
      "Creating temp directory C:\\Users\\manan\\AppData\\Local\\Temp\\moviess.manan.20200414.150733.781610\n",
      "Running step 1 of 3...\n",
      "Running step 2 of 3...\n",
      "Running step 3 of 3...\n",
      "job output is in C:\\Users\\manan\\AppData\\Local\\Temp\\moviess.manan.20200414.150733.781610\\output\n",
      "Streaming final output from C:\\Users\\manan\\AppData\\Local\\Temp\\moviess.manan.20200414.150733.781610\\output...\n",
      "Removing temp directory C:\\Users\\manan\\AppData\\Local\\Temp\\moviess.manan.20200414.150733.781610...\n"
     ]
    }
   ],
   "source": [
    "!python moviess.py --name=movies.csv ratingsnew.csv > movierecommendation.txt\n"
   ]
  }
 ],
 "metadata": {
  "kernelspec": {
   "display_name": "Python 3",
   "language": "python",
   "name": "python3"
  },
  "language_info": {
   "codemirror_mode": {
    "name": "ipython",
    "version": 3
   },
   "file_extension": ".py",
   "mimetype": "text/x-python",
   "name": "python",
   "nbconvert_exporter": "python",
   "pygments_lexer": "ipython3",
   "version": "3.7.0"
  }
 },
 "nbformat": 4,
 "nbformat_minor": 2
}
