{
 "cells": [
  {
   "cell_type": "code",
   "execution_count": 1,
   "metadata": {},
   "outputs": [
    {
     "data": {
      "text/plain": [
       "'C:\\\\Users\\\\manan\\\\Desktop\\\\mr\\\\mrproject\\\\ml-latest-small'"
      ]
     },
     "execution_count": 1,
     "metadata": {},
     "output_type": "execute_result"
    }
   ],
   "source": [
    "pwd"
   ]
  },
  {
   "cell_type": "code",
   "execution_count": null,
   "metadata": {},
   "outputs": [],
   "source": [
    "if __name__ == '__main__':\n",
    "    moviesrecommend.run()\n",
    "    \n",
    "    \n",
    "    def mapper_combinations(self,userid,ratings):\n",
    "        for movierating1,movierating2 in combinations(ratings,2):\n",
    "            \n",
    "            movieid1 = movierating1[0]\n",
    "            rating1 = movierating1[1]\n",
    "            movieid2 = movierating2[0]\n",
    "            rating2 = movierating2[1]\n",
    "            yield (movieid1,movieid2), (rating1,rating2)\n",
    "            yield (movieid2,movieid1), (rating2,rating1)\n",
    "    \n",
    "    \n",
    "    \n",
    "    "
   ]
  },
  {
   "cell_type": "code",
   "execution_count": 1,
   "metadata": {},
   "outputs": [
    {
     "name": "stderr",
     "output_type": "stream",
     "text": [
      "No configs found; falling back on auto-configuration\n",
      "No configs specified for inline runner\n",
      "Creating temp directory C:\\Users\\manan\\AppData\\Local\\Temp\\moviess.manan.20200414.150733.781610\n",
      "Running step 1 of 3...\n",
      "Running step 2 of 3...\n",
      "Running step 3 of 3...\n",
      "job output is in C:\\Users\\manan\\AppData\\Local\\Temp\\moviess.manan.20200414.150733.781610\\output\n",
      "Streaming final output from C:\\Users\\manan\\AppData\\Local\\Temp\\moviess.manan.20200414.150733.781610\\output...\n",
      "Removing temp directory C:\\Users\\manan\\AppData\\Local\\Temp\\moviess.manan.20200414.150733.781610...\n"
     ]
    }
   ],
   "source": [
    "!python moviess.py --name=movies.csv ratingsnew.csv > movierecommendation.txt\n"
   ]
  },
  {
   "cell_type": "code",
   "execution_count": null,
   "metadata": {},
   "outputs": [],
   "source": [
    "for in in j:\n",
    "    def load_movie_names(self):\n",
    "        # Load database of movie names.\n",
    "        self.movieNames = {}\n",
    "        with open('movies.csv', newline='') as f:\n",
    "            reader = csv.reader(f)\n",
    "            for line in reader:\n",
    "                fields = line.split(',')\n",
    "                self.movieNames[int(fields[0])] = fields[1]\n",
    "                print(movieNames)\n",
    "for i in j:\n",
    "    rating = pd.read_csv('movies.csv', sep='\\t', names=r_cols, usecols=range(4))\n",
    "    rating.head()\n",
    "\n",
    "    \n",
    "def mapper_parse_input(self, key, line):\n",
    "        r_cols = ['user_id', 'movie_id', 'rating','timestamp']\n",
    "        yield  userID, (movieID, float(rating))\n",
    "        rating = pd.read_csv('movies.csv', sep='\\t', names=r_cols, usecols=range(4))\n",
    "        rating.head()\n",
    "\n",
    "        \n",
    "def mapper_parse_input(self, key, line):\n",
    "        r_cols = ['user_id', 'movie_id', 'rating','timestamp']\n",
    "        yield  userID, (movieID, float(rating))\n",
    "        rating = pd.read_csv('movies.csv', sep='\\t', names=r_cols, usecols=range(4))\n",
    "        rating.head()\n",
    "        yield  userID, (movieID, float(rating))"
   ]
  },
  {
   "cell_type": "code",
   "execution_count": 15,
   "metadata": {},
   "outputs": [],
   "source": [
    "import pandas as pd\n",
    "df = pd.read_csv('ratings.csv')"
   ]
  },
  {
   "cell_type": "code",
   "execution_count": 16,
   "metadata": {},
   "outputs": [
    {
     "data": {
      "text/html": [
       "<div>\n",
       "<style scoped>\n",
       "    .dataframe tbody tr th:only-of-type {\n",
       "        vertical-align: middle;\n",
       "    }\n",
       "\n",
       "    .dataframe tbody tr th {\n",
       "        vertical-align: top;\n",
       "    }\n",
       "\n",
       "    .dataframe thead th {\n",
       "        text-align: right;\n",
       "    }\n",
       "</style>\n",
       "<table border=\"1\" class=\"dataframe\">\n",
       "  <thead>\n",
       "    <tr style=\"text-align: right;\">\n",
       "      <th></th>\n",
       "      <th>userId</th>\n",
       "      <th>movieId</th>\n",
       "      <th>rating</th>\n",
       "      <th>timestamp</th>\n",
       "    </tr>\n",
       "  </thead>\n",
       "  <tbody>\n",
       "    <tr>\n",
       "      <th>0</th>\n",
       "      <td>1</td>\n",
       "      <td>1</td>\n",
       "      <td>4.0</td>\n",
       "      <td>964982703</td>\n",
       "    </tr>\n",
       "    <tr>\n",
       "      <th>1</th>\n",
       "      <td>1</td>\n",
       "      <td>3</td>\n",
       "      <td>4.0</td>\n",
       "      <td>964981247</td>\n",
       "    </tr>\n",
       "    <tr>\n",
       "      <th>2</th>\n",
       "      <td>1</td>\n",
       "      <td>6</td>\n",
       "      <td>4.0</td>\n",
       "      <td>964982224</td>\n",
       "    </tr>\n",
       "    <tr>\n",
       "      <th>3</th>\n",
       "      <td>1</td>\n",
       "      <td>47</td>\n",
       "      <td>5.0</td>\n",
       "      <td>964983815</td>\n",
       "    </tr>\n",
       "    <tr>\n",
       "      <th>4</th>\n",
       "      <td>1</td>\n",
       "      <td>50</td>\n",
       "      <td>5.0</td>\n",
       "      <td>964982931</td>\n",
       "    </tr>\n",
       "  </tbody>\n",
       "</table>\n",
       "</div>"
      ],
      "text/plain": [
       "   userId  movieId  rating  timestamp\n",
       "0       1        1     4.0  964982703\n",
       "1       1        3     4.0  964981247\n",
       "2       1        6     4.0  964982224\n",
       "3       1       47     5.0  964983815\n",
       "4       1       50     5.0  964982931"
      ]
     },
     "execution_count": 16,
     "metadata": {},
     "output_type": "execute_result"
    }
   ],
   "source": [
    "df.head()"
   ]
  },
  {
   "cell_type": "code",
   "execution_count": 20,
   "metadata": {},
   "outputs": [
    {
     "name": "stdout",
     "output_type": "stream",
     "text": [
      "<class 'pandas.core.frame.DataFrame'>\n",
      "RangeIndex: 100836 entries, 0 to 100835\n",
      "Data columns (total 4 columns):\n",
      "userId       100836 non-null int64\n",
      "movieId      100836 non-null int64\n",
      "rating       100836 non-null float64\n",
      "timestamp    100836 non-null int64\n",
      "dtypes: float64(1), int64(3)\n",
      "memory usage: 3.1 MB\n"
     ]
    }
   ],
   "source": [
    "df.info()"
   ]
  }
 ],
 "metadata": {
  "kernelspec": {
   "display_name": "Python 3",
   "language": "python",
   "name": "python3"
  },
  "language_info": {
   "codemirror_mode": {
    "name": "ipython",
    "version": 3
   },
   "file_extension": ".py",
   "mimetype": "text/x-python",
   "name": "python",
   "nbconvert_exporter": "python",
   "pygments_lexer": "ipython3",
   "version": "3.7.0"
  }
 },
 "nbformat": 4,
 "nbformat_minor": 2
}
